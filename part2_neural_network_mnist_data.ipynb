{
 "cells": [
  {
   "cell_type": "code",
   "execution_count": 1,
   "metadata": {},
   "outputs": [],
   "source": [
    "from neural_network.neuralNetwork import neuralNetwork\n",
    "import numpy"
   ]
  },
  {
   "cell_type": "code",
   "execution_count": 2,
   "metadata": {
    "scrolled": false
   },
   "outputs": [
    {
     "name": "stdout",
     "output_type": "stream",
     "text": [
      "wih=\n",
      "[[ 0.09510161 -0.03536081 -0.06346976 ...  0.13625749  0.07333355\n",
      "  -0.06038811]\n",
      " [-0.06964294 -0.09083263 -0.13328125 ... -0.06033013  0.09731844\n",
      "   0.16186621]\n",
      " [ 0.00861542  0.12758712  0.04737267 ...  0.00315137  0.0212915\n",
      "  -0.00541187]\n",
      " ...\n",
      " [ 0.01600755  0.06002763 -0.05860097 ... -0.05063817 -0.05278349\n",
      "   0.05782672]\n",
      " [ 0.04074278 -0.26450492  0.03205695 ...  0.21747566  0.14097991\n",
      "   0.12962858]\n",
      " [ 0.11815343  0.05045225  0.09113844 ... -0.0119683  -0.11483457\n",
      "  -0.05962641]]\n",
      "who=\n",
      "[[-1.71767823e-01  4.42947150e-02 -2.25820010e-01  2.76486913e-01\n",
      "   1.13926997e-01  4.81878562e-01 -3.32737749e-02  2.89448984e-01\n",
      "   4.87146670e-02  1.39887494e-02 -4.48558766e-01  1.28672120e-01\n",
      "  -6.59315318e-01  3.23850547e-02  6.99248618e-02  6.51793511e-01\n",
      "  -2.30393300e-01 -8.29030238e-01 -8.80035035e-02 -3.10954669e-01\n",
      "   1.17083809e-01 -1.23289454e-01 -8.19140952e-02 -1.34359773e-01\n",
      "   8.09615038e-02 -5.47589023e-01  8.22605185e-03 -2.42361045e-01\n",
      "  -1.42365071e-01 -3.30391372e-02 -4.41379991e-01 -1.66289527e-01\n",
      "   2.19601510e-01  2.08716928e-01  2.22160495e-01 -1.69051048e-01\n",
      "   3.00156486e-03  3.92396788e-01  2.98959221e-01  1.74337958e-01\n",
      "  -1.90715773e-01 -1.65270043e-01  4.90443944e-02 -3.50901365e-01\n",
      "  -4.26165025e-01 -2.10968405e-01  2.60726547e-01  6.34115326e-01\n",
      "  -4.31772788e-03 -1.19483918e-01 -2.29660615e-01 -3.40781026e-01\n",
      "   6.04147433e-02 -1.31992930e-01  9.99426875e-02  8.17841994e-02\n",
      "   3.96757281e-02  3.96391533e-01  3.03905679e-01  1.88325289e-01\n",
      "   5.64095903e-02 -3.52595155e-01 -1.01325277e-01 -5.99117496e-01\n",
      "  -8.10071832e-02 -1.30389234e-01 -3.37919960e-02  2.94814372e-01\n",
      "  -2.25201309e-01 -6.77626637e-02  4.85106618e-01 -1.43993047e-01\n",
      "  -2.27401637e-01 -5.98022947e-02 -7.91892194e-02  5.83667646e-02\n",
      "   2.39116074e-01 -1.11261195e-01 -1.34228974e-01  1.51511397e-01\n",
      "  -5.16938866e-01  1.05683832e-01 -2.05626275e-01  3.87289932e-01\n",
      "   1.73341345e-01  3.39983451e-01  7.31359845e-02  7.19883233e-01\n",
      "  -2.11652451e-01  1.06435724e-01 -5.46016101e-01 -7.62933878e-02\n",
      "   1.88575706e-01 -1.80127682e-01  5.26360416e-01  1.72201789e-01\n",
      "   1.39463590e-01  7.91420777e-02 -1.46425138e-02  1.40541257e-01]\n",
      " [ 8.39326748e-02  1.35326636e-02  4.44138572e-02 -1.02455110e-01\n",
      "  -6.14071725e-01  2.02190568e-01  3.08155272e-01  5.05882911e-01\n",
      "   1.29212492e-02  3.14370704e-01  7.73199767e-02  2.65031240e-01\n",
      "   2.75092555e-01  1.58552539e-01 -1.55600115e-01 -2.02929618e-01\n",
      "  -3.75814258e-01  5.33416598e-01  1.19141816e-01 -2.64977702e-01\n",
      "   9.77045845e-01 -1.17207481e-01  2.30200922e-01 -2.89077064e-01\n",
      "  -7.09338352e-01 -1.57777593e-01 -1.03609145e-02 -3.75535385e-02\n",
      "  -1.45213099e-01 -1.72696827e-01  4.74591111e-01 -1.86971636e-01\n",
      "   2.10662310e-01 -4.01389617e-01 -5.05722391e-03  8.32836204e-01\n",
      "  -5.49437030e-01 -3.43199780e-01 -6.56495623e-01  2.88279190e-01\n",
      "  -8.86657521e-02 -4.13734817e-01 -6.02086023e-02  2.43725852e-01\n",
      "   5.37628693e-01 -4.48056187e-01 -3.93335132e-01  2.84994382e-02\n",
      "  -2.30125731e-01 -2.56253861e-01 -1.68987703e-01 -1.35131952e-01\n",
      "  -1.51368682e-01 -3.05561801e-01  1.67212286e-01  4.16233863e-01\n",
      "  -2.50653882e-01  8.62633544e-02  2.40362845e-01 -7.09191449e-02\n",
      "  -8.05925747e-03 -7.03246132e-02 -2.30751866e-01 -5.12440455e-01\n",
      "   1.41394706e-01 -6.40648869e-01  4.88590569e-02  2.48771426e-01\n",
      "  -1.56195160e-01  7.09809669e-02 -4.45992941e-01  4.71062047e-01\n",
      "   1.64466451e-01 -9.29899016e-02  4.70811428e-01  7.62439052e-02\n",
      "  -5.34512829e-02  5.27192130e-02 -5.83789746e-01  1.70718452e-01\n",
      "   3.99002400e-02 -3.45698707e-01  5.56431905e-01 -1.75586711e-01\n",
      "   8.18130450e-02  4.72640242e-02  1.03883843e-01 -1.24390302e-01\n",
      "  -3.60917189e-02 -4.84911655e-01 -3.87513873e-01 -1.92343504e-01\n",
      "  -5.32138481e-01  7.18269651e-01 -2.63032732e-02  5.83008988e-02\n",
      "   5.24503683e-03  4.24792073e-01  1.00528043e-01  1.36718564e-01]\n",
      " [ 1.81554263e-01 -4.53895010e-01 -6.43134172e-02 -2.93956227e-01\n",
      "   1.10524561e-01  2.85781312e-01 -1.67818500e-01 -3.30929067e-01\n",
      "   5.13420957e-01 -2.67991655e-01  3.42113415e-02 -9.67552551e-02\n",
      "   1.97370392e-01 -3.14013856e-01 -1.49400407e-01  2.59938599e-01\n",
      "  -5.28602521e-01  1.60053798e-01  8.23406222e-02 -1.22533413e-01\n",
      "  -4.51797743e-02 -8.80382995e-02  2.75997221e-02  8.50700923e-01\n",
      "   3.90434785e-01 -6.67750003e-01  8.59784470e-02 -7.26535616e-02\n",
      "   3.88223487e-01  1.63227616e-01 -3.00021212e-01  5.08277541e-01\n",
      "   7.00113444e-01  6.72663754e-02  3.99780963e-01 -5.56600611e-02\n",
      "  -2.41087410e-02  6.95693620e-02  3.17084503e-01  1.54602345e-01\n",
      "   1.16268567e-01  8.08066246e-02  1.88703004e-01 -1.20014478e-01\n",
      "   2.01699131e-01  1.99960254e-01  6.94060711e-02 -5.56577989e-01\n",
      "   4.58492256e-01  5.17937402e-01 -9.38035673e-02  1.56634640e-01\n",
      "   3.88077586e-03 -5.26279615e-02 -1.68864465e-01 -3.54976857e-01\n",
      "  -2.26912105e-01  3.23166779e-01  3.90110087e-01  2.85731062e-01\n",
      "  -7.34570761e-02 -4.55865535e-01 -1.06186027e-02 -5.54221438e-01\n",
      "   2.35696172e-01 -2.45556228e-01 -5.21890348e-02  1.95095942e-02\n",
      "   3.65875593e-01 -4.17595217e-01 -1.21963576e-01  9.71506457e-02\n",
      "  -5.93416602e-01 -5.73699902e-01  3.12113690e-01  2.13172912e-01\n",
      "   8.20274917e-03  3.78429873e-01  8.33762930e-01 -1.10561628e-01\n",
      "  -4.87004274e-01 -8.02319815e-02 -3.14604436e-01  1.28999253e-01\n",
      "   7.26645277e-01 -3.05882755e-01 -3.24651647e-03  1.17081363e-01\n",
      "   7.97848948e-03 -1.60663666e-01  3.44697823e-01  6.80848417e-01\n",
      "  -3.16147335e-01  6.48099584e-02  1.49268139e-01 -3.28938623e-01\n",
      "  -2.59008581e-01 -1.48094647e-01 -4.61239934e-02  3.26613004e-01]\n",
      " [-3.78743302e-01 -3.77749164e-02  1.45390193e-01  5.29918123e-01\n",
      "   4.79819383e-02 -4.93297831e-01  2.69538733e-01  3.56667407e-01\n",
      "   1.08541994e-01 -2.53535256e-01 -6.83861282e-02  6.28171820e-01\n",
      "   2.92314351e-01 -3.03633245e-01  1.97745470e-01  5.52038277e-01\n",
      "   2.50090058e-01  9.56002273e-02 -7.66430903e-03  6.41004792e-01\n",
      "   2.05599969e-01 -1.68289220e-01  2.34050348e-01 -4.75018792e-01\n",
      "   9.22441334e-02 -7.44208598e-02  6.55520974e-01 -1.34350617e-01\n",
      "  -4.27810784e-01 -2.89798354e-01  4.83700152e-02  1.33334881e-01\n",
      "  -2.00859924e-01 -2.21915557e-01  3.14454042e-03  5.59966455e-01\n",
      "   5.84219628e-02 -2.40759012e-01 -2.63514477e-01 -3.87959021e-04\n",
      "   2.23075837e-01 -2.96496493e-01  2.19276148e-01 -1.44338521e-01\n",
      "  -5.78222152e-01  2.77003861e-01 -7.78206371e-02  5.36913831e-02\n",
      "  -2.98532265e-01  8.24054485e-05 -6.23210566e-01 -5.47044392e-01\n",
      "  -5.40827850e-01 -2.88890240e-01  3.63800241e-01  2.22387678e-01\n",
      "   1.52589779e-01 -2.90166878e-02  1.34910776e-01 -1.77346764e-01\n",
      "  -1.03598626e-01 -2.47834503e-01 -5.01087565e-01 -4.25969488e-01\n",
      "   5.87500786e-01  1.55421888e-01  5.26033735e-01  4.38301728e-02\n",
      "   9.69390264e-02  4.54219899e-02 -7.15069283e-02 -2.28914062e-01\n",
      "  -6.75976116e-02  5.52518038e-02  1.38708431e-01  5.46203167e-03\n",
      "   5.30038576e-01  5.32094128e-01  4.67407344e-01 -2.34625414e-01\n",
      "  -4.72119318e-01  7.61784132e-01 -4.34801627e-01  3.47440910e-01\n",
      "  -3.33194391e-01 -2.12863935e-01  5.20083188e-01 -2.48013759e-01\n",
      "  -5.43646003e-01 -1.50252551e-01  1.63585502e-01  7.43485591e-01\n",
      "   3.68289108e-01 -7.31093965e-01 -1.71530262e-01 -6.60215161e-03\n",
      "   4.72797766e-02  5.96807454e-01  2.35744989e-01  2.20582413e-01]\n",
      " [-7.58124021e-01  6.05677576e-01  3.77514048e-01  3.86662433e-01\n",
      "  -5.98445907e-01 -1.33253472e-01 -4.43361752e-01  4.56209112e-01\n",
      "   3.63754981e-02 -3.35152941e-01 -6.50306420e-02 -1.51493252e-01\n",
      "   5.74648622e-02  1.57666990e-01 -9.50814506e-03 -2.30331390e-01\n",
      "   1.80183269e-01 -5.33602967e-02  1.45750459e-01 -4.87726279e-02\n",
      "   2.42262984e-01 -5.91262141e-01  6.00979416e-01 -4.00655905e-02\n",
      "   1.14522645e-01  2.22160946e-01  3.68056276e-01  2.21937500e-01\n",
      "   1.67788137e-01 -2.14706419e-01 -2.71012933e-01 -1.08383816e-01\n",
      "   1.86664139e-01  3.44269877e-01 -4.97306256e-02  6.37444181e-01\n",
      "   1.00383834e+00  1.25959398e-01 -1.55595649e-01 -8.79572551e-02\n",
      "  -1.01376682e-01 -3.10719837e-01 -2.40081464e-01  7.45317404e-01\n",
      "  -1.28759609e-03  1.04470196e-01 -2.01828258e-01  6.31987657e-01\n",
      "   1.46278905e-01 -2.06211608e-01  1.87861513e-01 -1.07941438e-01\n",
      "  -2.98856686e-01  1.26661877e-01 -4.63474926e-01 -6.94020515e-02\n",
      "  -1.49847474e-01  5.66576473e-01 -6.14437148e-03 -1.08787167e-01\n",
      "  -9.63296155e-02  1.45763867e-01  2.45708056e-01  3.87518207e-01\n",
      "   9.16461172e-02  2.19930515e-02 -3.79581759e-01 -2.92636794e-02\n",
      "   4.51839495e-02 -4.12469561e-01 -2.46125576e-01  1.07421141e-01\n",
      "   1.90933324e-01  2.56915531e-01 -1.85332437e-01 -4.85834756e-01\n",
      "   9.58529673e-02  2.07045753e-02 -1.80614249e-01  3.60153785e-02\n",
      "  -4.54631861e-01 -5.30085867e-02 -5.43833147e-01 -1.65553815e-02\n",
      "   3.82918744e-01  4.05028918e-01 -1.12486341e-01  5.53731093e-02\n",
      "   2.76386705e-02  1.29858344e-01 -2.21468505e-01  3.39040081e-01\n",
      "   3.41084780e-02 -2.72711578e-01 -2.91936997e-01 -8.95254395e-02\n",
      "   1.39644989e-01 -3.08662642e-01 -2.69725374e-01  2.47023662e-01]\n",
      " [-1.95116023e-01  3.94475479e-01 -4.87054097e-01  2.48406443e-01\n",
      "   8.64280176e-01 -2.78070829e-01 -2.40296395e-01 -2.63027182e-01\n",
      "   1.50056018e-01 -2.69324342e-01 -3.27358400e-01  5.21450618e-01\n",
      "   7.80303368e-01 -4.18414045e-01  2.43273509e-01  2.94799082e-01\n",
      "  -4.72887325e-01  2.36075379e-01 -1.25043079e-01  1.33430438e-01\n",
      "  -1.59748158e-02  1.55198957e-02 -4.96697854e-02 -3.09298454e-01\n",
      "   4.54576791e-01  1.89459674e-01  1.60540228e-01 -3.56686891e-02\n",
      "   3.51401754e-02  1.44799914e-01 -3.14682875e-01 -3.31107921e-02\n",
      "  -6.83196874e-02 -2.61514109e-01  4.01374153e-01 -2.24721502e-01\n",
      "  -3.79581894e-01  3.63687968e-01  2.95622878e-01 -5.92874841e-02\n",
      "   3.76377451e-01 -3.18907191e-01 -2.33274489e-01  1.27443346e-01\n",
      "  -2.85148635e-01 -1.86647647e-01 -1.39375191e-01 -2.18077000e-03\n",
      "   5.47010612e-01  2.74147106e-01  3.49605549e-01 -1.30877448e-01\n",
      "   7.29959364e-01 -2.33735854e-01 -1.59495506e-01  4.24576548e-01\n",
      "   1.13172438e-01 -1.79742374e-02 -8.95412606e-02  1.62808167e-01\n",
      "   3.16164832e-01  1.33038345e-01  3.89974630e-02  2.63288387e-01\n",
      "   2.26680462e-02 -1.41030773e-01  1.38679111e-01 -3.34925898e-01\n",
      "   1.34648664e-01 -1.94758614e-01 -1.38287110e-01 -3.34521279e-01\n",
      "   2.66763643e-01 -3.61018816e-01 -5.67071104e-02 -1.24396179e-01\n",
      "   1.86699551e-01  4.45782891e-01 -8.30092069e-02  6.32846639e-02\n",
      "  -2.74932328e-01  3.25225938e-01 -6.13836687e-01 -1.02205479e-01\n",
      "   4.01817140e-03 -1.84850922e-01  3.88401971e-01  5.10004145e-02\n",
      "   6.63993018e-01  2.70020148e-01 -1.47686185e-01 -1.78740028e-01\n",
      "  -9.79878254e-03 -2.63376800e-02 -5.21433307e-01 -4.75074602e-01\n",
      "  -6.36276332e-02 -1.43070920e-01 -2.62172869e-01  6.21684593e-02]\n",
      " [-8.39382948e-02  3.37780506e-02  9.34253764e-02 -3.20715440e-01\n",
      "   2.13074881e-01  2.47648057e-01  2.19134937e-01 -2.92134792e-01\n",
      "  -1.62965229e-01  5.22850594e-02 -1.05695287e-01  8.99849006e-01\n",
      "   1.04591496e-01 -1.54416091e-01  1.19705409e-01 -1.86399268e-01\n",
      "  -1.72071049e-01 -9.40281807e-02  7.55999057e-03 -1.87835686e-01\n",
      "   1.33967280e-01  1.90765357e-02  3.64383123e-02 -2.42494855e-01\n",
      "   6.35459433e-01  1.61326688e-01  6.85419127e-01  8.58067626e-01\n",
      "   3.31273614e-01 -1.22229829e-01 -8.37381302e-02 -4.96340085e-01\n",
      "   2.90622707e-01 -1.32810534e-01 -4.84618492e-01  4.11171711e-02\n",
      "   1.33357271e-01 -2.48197785e-02  1.28341233e-01 -3.53636136e-01\n",
      "   1.50210296e-01 -1.24760755e-01 -6.10612121e-02  3.18675363e-01\n",
      "  -3.94285503e-01 -3.14048774e-01 -4.32415495e-01  1.33996231e-01\n",
      "  -2.22826417e-01 -3.85402343e-01 -4.72539375e-01 -2.95158310e-01\n",
      "   1.49476133e-01 -3.03157940e-01 -6.45640364e-02  4.82349474e-01\n",
      "  -3.45274008e-01 -8.59538075e-02  2.49896789e-01  3.30861010e-01\n",
      "  -7.06022125e-01 -3.67281469e-01  2.01669801e-01  5.24369683e-01\n",
      "  -7.57657657e-01 -6.63458578e-02 -1.21360093e-01  2.20803017e-01\n",
      "   2.49417291e-01 -2.36561018e-01  3.18941889e-01  4.14806319e-01\n",
      "   1.02075193e-01  5.54108778e-03 -1.93483163e-01 -5.44981582e-01\n",
      "   3.33809353e-01  3.04637195e-01  4.56647362e-01 -5.60529449e-01\n",
      "  -1.56981592e-01 -3.99039306e-02  8.74507431e-02  7.37233273e-02\n",
      "  -4.29655643e-01 -1.68343326e-01 -2.87756777e-01  3.65453221e-01\n",
      "  -8.24826106e-01  4.30827861e-01  2.08099461e-01  7.04598583e-02\n",
      "   4.21996537e-01 -2.61875594e-01  1.06366884e-01 -1.81485525e-01\n",
      "  -1.28225694e-01 -3.31288515e-01 -2.31750458e-01  1.78823823e-01]\n",
      " [-9.08830025e-02 -6.22079952e-02 -9.25934266e-02 -2.53710913e-01\n",
      "  -3.34180265e-01 -4.88159494e-01  1.06340690e-01 -1.40948697e-02\n",
      "   3.66041733e-01  5.22480210e-02  2.83946252e-01  1.85260908e-02\n",
      "  -3.04156573e-01  9.11071658e-02 -4.16944642e-02 -1.83971251e-01\n",
      "   2.39784694e-02  4.19309774e-01  3.05767758e-01  1.74171446e-01\n",
      "   2.77035183e-01 -2.65301907e-02  3.75387569e-01  5.03798581e-01\n",
      "  -1.49017044e-01  4.31001621e-01 -8.99105702e-02  2.03645777e-01\n",
      "  -4.84027139e-01  2.33380856e-01 -1.82350160e-03 -1.60594571e-01\n",
      "  -1.80116080e-02 -4.13760706e-01 -4.45502097e-01 -1.90946813e-01\n",
      "  -1.00429134e-01 -3.72092788e-01  6.84743512e-02  4.91346452e-01\n",
      "   4.80825157e-01 -3.60473946e-01  4.20415143e-02 -3.79747594e-01\n",
      "  -3.78310587e-02 -5.03966345e-01  1.85147772e-01  1.29885766e-01\n",
      "  -3.01225129e-02  1.98460330e-01 -4.30561432e-01 -3.20971076e-01\n",
      "  -4.50465218e-01  4.13843386e-01  8.66784345e-02  3.80113165e-01\n",
      "  -2.52541488e-01  5.30231191e-01 -1.70919098e-02  1.01635964e-01\n",
      "  -1.46330870e-01  2.54641465e-01  1.27489194e-01 -1.45367931e-01\n",
      "   6.09579703e-02 -8.56140410e-02 -7.91311249e-02 -1.30523696e-01\n",
      "  -3.81399824e-01  8.91219029e-03 -4.37576133e-03 -5.50182429e-02\n",
      "   3.35404632e-01 -3.67809732e-01  3.47725116e-01  3.43026508e-02\n",
      "   1.57660390e-01  8.12831907e-02  4.32744194e-01 -2.06546267e-01\n",
      "   3.42638777e-01 -2.07860228e-02 -1.93171583e-01 -2.27364863e-01\n",
      "  -9.87986931e-02  1.62835107e-01 -2.16632095e-01  3.35548726e-01\n",
      "  -1.82279358e-01 -9.64096925e-02 -5.59123005e-03 -7.85767650e-01\n",
      "  -5.19966547e-01  7.53924749e-02  1.25977134e-01  4.06394275e-01\n",
      "   5.45572141e-01 -1.63124946e-01  2.08165116e-01 -1.10051754e-01]\n",
      " [-5.34966332e-02  5.66221302e-01 -2.42829656e-01  1.76450724e-01\n",
      "  -3.55607114e-01  6.02764908e-02  5.75347221e-01 -3.83268983e-01\n",
      "   1.47194902e-01 -5.75278939e-01  2.23874231e-01  3.28134077e-01\n",
      "  -6.86201429e-02 -2.79997342e-01 -3.65146894e-01 -5.57655753e-01\n",
      "  -3.25796777e-01 -2.43822292e-01  6.90403474e-02 -1.30064630e-01\n",
      "  -6.04295313e-02 -2.37268205e-01  1.52552577e-01 -2.29697512e-01\n",
      "   1.61181858e-01 -2.87322903e-02 -5.31505033e-01 -9.19143124e-02\n",
      "   4.51145443e-01  3.21409561e-01  1.72706181e-01  2.10628074e-01\n",
      "  -8.48606312e-02  2.05495693e-01 -3.92276244e-01 -8.63619100e-01\n",
      "  -7.87068538e-02  4.12371820e-01 -2.85945993e-01  4.18772503e-01\n",
      "  -4.94504496e-01 -2.83208346e-01  2.99348953e-01  1.37224888e-01\n",
      "   8.19451449e-02  2.73105241e-01  3.99644051e-01 -7.80502813e-01\n",
      "   1.06411771e-01 -3.80923019e-01 -2.25574448e-01 -1.95841698e-02\n",
      "   2.17876522e-01 -4.73085167e-02  2.71190304e-01  2.92979275e-01\n",
      "  -2.34073997e-01  5.12875708e-01 -4.85893367e-01  2.77394628e-02\n",
      "  -1.32177442e-01 -1.07995233e-01  2.08115072e-01  7.19047152e-01\n",
      "  -1.07627732e+00 -6.04098308e-01 -9.44046592e-02  3.85764999e-01\n",
      "  -2.80726117e-01 -1.29415683e-01  4.62692398e-02 -3.31740270e-01\n",
      "  -5.14052465e-02 -8.90644627e-01  8.16210452e-02  7.56289420e-01\n",
      "   2.95996703e-01 -2.48861188e-01 -4.19808426e-01 -1.37848683e-01\n",
      "  -1.17455370e-01 -3.71359511e-02 -4.63524546e-01  1.82918268e-01\n",
      "   1.31251531e-01  2.86500386e-01 -1.99563815e-03  4.84147671e-01\n",
      "  -1.35687697e-02 -1.66420781e-01  1.56818725e-01 -2.24593503e-01\n",
      "  -2.91731135e-01  1.01759704e+00  1.51816999e-01 -1.23205480e-01\n",
      "   2.29294513e-02 -3.60364580e-01  4.40242630e-01 -2.30673807e-01]\n",
      " [-1.38431763e-01  4.73238001e-01  1.74337759e-01 -1.44079115e-01\n",
      "  -4.27939720e-01 -2.18437866e-01 -3.05443598e-02  4.65377497e-01\n",
      "   4.15695067e-01  1.47897168e-02  4.23788853e-02  2.40788089e-01\n",
      "  -2.07465831e-01  3.51009279e-01 -1.17592804e-01 -7.26975321e-02\n",
      "  -3.89706346e-02 -5.70496275e-03  4.06373092e-01 -2.16694971e-01\n",
      "  -2.25170475e-01  2.02249078e-01 -2.70465043e-01  3.85402052e-01\n",
      "  -3.62396209e-01 -4.68688842e-01  2.46929683e-02 -2.47777715e-01\n",
      "  -7.28568145e-01 -1.66651154e-01  1.08812040e-01 -2.02508407e-02\n",
      "  -9.37018761e-02  1.54874202e-01  1.05250780e-02 -8.66243063e-02\n",
      "   3.57320374e-01 -3.07891060e-01 -6.51045877e-02 -3.11113281e-02\n",
      "  -2.63330566e-02 -8.05177770e-02  4.76912646e-01  5.91829843e-02\n",
      "  -3.98574699e-01  2.98859512e-01  2.44928568e-02  6.60077408e-02\n",
      "  -2.37575249e-01 -4.43740894e-01 -4.10292902e-01  1.93423440e-01\n",
      "  -2.73894346e-01 -8.33235801e-02 -2.19676883e-01  5.52671885e-01\n",
      "   2.62029662e-01 -7.03634715e-02 -5.22878801e-03 -1.41760113e-01\n",
      "  -3.39474781e-01  2.36549696e-01  3.74514973e-01  4.11384209e-01\n",
      "   4.65952448e-01 -1.51282788e-01  5.70554570e-01  3.99099646e-02\n",
      "  -9.78627142e-02 -1.21653365e-01 -2.36384478e-01 -1.29511253e-03\n",
      "   2.39882482e-01  2.09123756e-01 -2.45056145e-01  2.23855292e-01\n",
      "  -3.54099933e-01  7.98132160e-01 -2.13777898e-01  3.70436007e-01\n",
      "  -2.38526646e-01 -2.51583133e-01 -4.94869781e-01  2.64891028e-02\n",
      "   1.77925453e-02  2.86365548e-01  2.87521273e-01 -3.28897669e-01\n",
      "   1.11968831e-01  2.38248453e-01  4.57452443e-02  1.90776248e-01\n",
      "  -7.83282586e-02 -3.41457281e-01 -2.20964318e-01 -5.61543546e-01\n",
      "  -1.89664360e-01 -3.20540761e-01 -6.53312787e-01  1.96237817e-01]]\n"
     ]
    }
   ],
   "source": [
    "# number of input, hidden and output nodes\n",
    "input_nodes = 784\n",
    "hidden_nodes = 100\n",
    "output_nodes = 10\n",
    "#learning rate is 0.3\n",
    "learning_rate = 0.3\n",
    "#create instance of neural network\n",
    "n  = neuralNetwork(input_nodes,hidden_nodes,output_nodes,learning_rate)\n"
   ]
  },
  {
   "cell_type": "code",
   "execution_count": 3,
   "metadata": {
    "scrolled": true
   },
   "outputs": [],
   "source": [
    "#load the mnist training data csv file into a list\n",
    "training_data_file = open(\"mnist_train_100.csv\",'r')\n",
    "training_data_list = training_data_file.readlines()\n",
    "training_data_file.close()"
   ]
  },
  {
   "cell_type": "code",
   "execution_count": 4,
   "metadata": {},
   "outputs": [
    {
     "name": "stdout",
     "output_type": "stream",
     "text": [
      "start\n",
      "done\n"
     ]
    }
   ],
   "source": [
    "print('start')\n",
    "# go through all records in the training data set\n",
    "for record in training_data_list:\n",
    "    \n",
    "    # split the record by the ',' commas\n",
    "    all_values = record.split(',')\n",
    "    # scale and shift the inputs\n",
    "    inputs = (numpy.asfarray(all_values[1:]) / 255.0 * 0.99) + 0.01\n",
    "    #create the target output values (all 0.01,except the desired label which is  0.99)\n",
    "    targets = numpy.zeros(output_nodes) + 0.01\n",
    "    # all_values[0] is the target label for this record\n",
    "    targets[int(all_values[0])] = 0.99\n",
    "    n.train(inputs,targets)\n",
    "    pass\n",
    "print('done')"
   ]
  },
  {
   "cell_type": "code",
   "execution_count": 5,
   "metadata": {},
   "outputs": [],
   "source": [
    "#load the mnist test data csv file into a list\n",
    "test_data_file = open(\"mnist_test_10.csv\",'r')\n",
    "test_data_list = test_data_file.readlines()\n",
    "test_data_file.close()"
   ]
  },
  {
   "cell_type": "code",
   "execution_count": 6,
   "metadata": {
    "scrolled": true
   },
   "outputs": [
    {
     "name": "stdout",
     "output_type": "stream",
     "text": [
      "7\n"
     ]
    }
   ],
   "source": [
    "# get the first test record\n",
    "all_values = test_data_list[0].split(',')\n",
    "# print the label\n",
    "print(all_values[0])"
   ]
  },
  {
   "cell_type": "code",
   "execution_count": 8,
   "metadata": {
    "scrolled": true
   },
   "outputs": [
    {
     "data": {
      "text/plain": [
       "<matplotlib.image.AxesImage at 0x81d7be320>"
      ]
     },
     "execution_count": 8,
     "metadata": {},
     "output_type": "execute_result"
    },
    {
     "data": {
      "image/png": "[encoded data removed]",
      "text/plain": [
       "<Figure size 432x288 with 1 Axes>"
      ]
     },
     "metadata": {
      "needs_background": "light"
     },
     "output_type": "display_data"
    }
   ],
   "source": [
    "image_array = numpy.asfarray(all_values[1:]).reshape((28,28))\n",
    "import matplotlib.pyplot\n",
    "matplotlib.pyplot.imshow(image_array,cmap=\"Greys\",interpolation=\"None\")"
   ]
  },
  {
   "cell_type": "code",
   "execution_count": 11,
   "metadata": {
    "scrolled": true
   },
   "outputs": [
    {
     "data": {
      "text/plain": [
       "array([[0.03808485],\n",
       "       [0.01861076],\n",
       "       [0.0253163 ],\n",
       "       [0.07835774],\n",
       "       [0.04981721],\n",
       "       [0.01610368],\n",
       "       [0.00527374],\n",
       "       [0.79040177],\n",
       "       [0.02254922],\n",
       "       [0.03200705]])"
      ]
     },
     "execution_count": 11,
     "metadata": {},
     "output_type": "execute_result"
    }
   ],
   "source": [
    "n.query((numpy.asfarray(all_values[1:]) / 255.0 * 0.99) + 0.01)"
   ]
  },
  {
   "cell_type": "code",
   "execution_count": 12,
   "metadata": {
    "scrolled": true
   },
   "outputs": [
    {
     "name": "stdout",
     "output_type": "stream",
     "text": [
      "7 correct label\n",
      "7 network's answer\n",
      "2 correct label\n",
      "0 network's answer\n",
      "1 correct label\n",
      "1 network's answer\n",
      "0 correct label\n",
      "0 network's answer\n",
      "4 correct label\n",
      "4 network's answer\n",
      "1 correct label\n",
      "1 network's answer\n",
      "4 correct label\n",
      "4 network's answer\n",
      "9 correct label\n",
      "3 network's answer\n",
      "5 correct label\n",
      "4 network's answer\n",
      "9 correct label\n",
      "7 network's answer\n"
     ]
    }
   ],
   "source": [
    "# test the neural network\n",
    "# scorecard for how well the network performs, initially empty \n",
    "scorecard = []\n",
    "# go through all the records in the test data set\n",
    "for record in test_data_list:\n",
    "    # split the record by the ',' commas\n",
    "    all_values = record.split(',')\n",
    "    # correct answer is first value\n",
    "    correct_label = int(all_values[0])\n",
    "    print(correct_label,\"correct label\")\n",
    "    inputs = (numpy.asfarray(all_values[1:]) / 255.0 * 0.99) + 0.01\n",
    "    # query the network\n",
    "    outputs = n.query(inputs)\n",
    "    # the index of the highest value corresponds to the label\n",
    "    label = numpy.argmax(outputs)\n",
    "    print(label,\"network's answer\")\n",
    "    # append correct or incorrect to list\n",
    "    if (label == correct_label):\n",
    "        #network's answer matches correct answer, add 1 to scorecard\n",
    "        scorecard.append(1)\n",
    "    else:\n",
    "        #network's answer doesn't match correct answer, add 0 to scorecard\n",
    "        scorecard.append(0)\n",
    "        pass\n",
    "    pass"
   ]
  },
  {
   "cell_type": "code",
   "execution_count": 13,
   "metadata": {
    "scrolled": true
   },
   "outputs": [
    {
     "data": {
      "text/plain": [
       "[1, 0, 1, 1, 1, 1, 1, 0, 0, 0]"
      ]
     },
     "execution_count": 13,
     "metadata": {},
     "output_type": "execute_result"
    }
   ],
   "source": [
    "scorecard"
   ]
  },
  {
   "cell_type": "code",
   "execution_count": 14,
   "metadata": {},
   "outputs": [
    {
     "name": "stdout",
     "output_type": "stream",
     "text": [
      "performance =  0.6\n"
     ]
    }
   ],
   "source": [
    "# calculate the performance score, the fraction of correct answers\n",
    "scorecard_array = numpy.asarray(scorecard)\n",
    "print(\"performance = \",scorecard_array.sum() / scorecard_array.size)"
   ]
  }
 ],
 "metadata": {
  "kernelspec": {
   "display_name": "Python 3",
   "language": "python",
   "name": "python3"
  },
  "language_info": {
   "codemirror_mode": {
    "name": "ipython",
    "version": 3
   },
   "file_extension": ".py",
   "mimetype": "text/x-python",
   "name": "python",
   "nbconvert_exporter": "python",
   "pygments_lexer": "ipython3",
   "version": "3.7.1"
  }
 },
 "nbformat": 4,
 "nbformat_minor": 2
}
