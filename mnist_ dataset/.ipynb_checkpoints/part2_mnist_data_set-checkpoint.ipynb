{
 "cells": [
  {
   "cell_type": "code",
   "execution_count": 1,
   "metadata": {},
   "outputs": [],
   "source": [
    "data_file = open('mnist_train_100.csv', 'r')\n",
    "data_list = data_file.readlines()\n",
    "data_file.close()\n"
   ]
  },
  {
   "cell_type": "code",
   "execution_count": 2,
   "metadata": {},
   "outputs": [
    {
     "data": {
      "text/plain": [
       "100"
      ]
     },
     "execution_count": 2,
     "metadata": {},
     "output_type": "execute_result"
    }
   ],
   "source": [
    "len(data_list)"
   ]
  },
  {
   "cell_type": "code",
   "execution_count": 3,
   "metadata": {},
   "outputs": [
    {
     "data": {
      "text/plain": [
       "<matplotlib.image.AxesImage at 0x112399a58>"
      ]
     },
     "execution_count": 3,
     "metadata": {},
     "output_type": "execute_result"
    }
   ],
   "source": [
    "import numpy\n",
    "import matplotlib.pyplot\n",
    "all_values = data_list[0].split(',')\n",
    "image_array = numpy.asfarray(all_values[1:]).reshape(28,28)\n",
    "matplotlib.pyplot.imshow(image_array,cmap=\"Greys\",interpolation='None')"
   ]
  },
  {
   "cell_type": "code",
   "execution_count": 4,
   "metadata": {
    "scrolled": true
   },
   "outputs": [
    {
     "data": {
      "text/plain": [
       "<matplotlib.image.AxesImage at 0x112b05940>"
      ]
     },
     "execution_count": 4,
     "metadata": {},
     "output_type": "execute_result"
    },
    {
     "data": {
      "image/png": "[encoded data removed]",
      "text/plain": [
       "<Figure size 432x288 with 1 Axes>"
      ]
     },
     "metadata": {
      "needs_background": "light"
     },
     "output_type": "display_data"
    }
   ],
   "source": [
    "all_values = data_list[1].split(',')\n",
    "image_array = numpy.asfarray(all_values[1:]).reshape(28,28)\n",
    "matplotlib.pyplot.imshow(image_array,cmap=\"Greys\",interpolation='None')"
   ]
  },
  {
   "cell_type": "code",
   "execution_count": 5,
   "metadata": {
    "scrolled": true
   },
   "outputs": [
    {
     "data": {
      "text/plain": [
       "<matplotlib.image.AxesImage at 0x1127e3e10>"
      ]
     },
     "execution_count": 5,
     "metadata": {},
     "output_type": "execute_result"
    },
    {
     "data": {
      "image/png": "[encoded data removed]",
      "text/plain": [
       "<Figure size 432x288 with 1 Axes>"
      ]
     },
     "metadata": {
      "needs_background": "light"
     },
     "output_type": "display_data"
    }
   ],
   "source": [
    "all_values = data_list[2].split(',')\n",
    "image_array = numpy.asfarray(all_values[1:]).reshape(28,28)\n",
    "matplotlib.pyplot.imshow(image_array,cmap=\"Greys\",interpolation='None')"
   ]
  },
  {
   "cell_type": "code",
   "execution_count": 6,
   "metadata": {},
   "outputs": [
    {
     "data": {
      "text/plain": [
       "array([0.01  , 0.01  , 0.01  , 0.01  , 0.01  , 0.01  , 0.01  , 0.01  ,\n",
       "       0.01  , 0.01  , 0.01  , 0.01  , 0.01  , 0.01  , 0.01  , 0.01  ,\n",
       "       0.01  , 0.01  , 0.01  , 0.01  , 0.01  , 0.01  , 0.01  , 0.01  ,\n",
       "       0.01  , 0.01  , 0.01  , 0.01  , 0.01  , 0.01  , 0.01  , 0.01  ,\n",
       "       0.01  , 0.01  , 0.01  , 0.01  , 0.01  , 0.01  , 0.01  , 0.01  ,\n",
       "       0.01  , 0.01  , 0.01  , 0.01  , 0.01  , 0.01  , 0.01  , 0.01  ,\n",
       "       0.01  , 0.01  , 0.01  , 0.01  , 0.01  , 0.01  , 0.01  , 0.01  ,\n",
       "       0.01  , 0.01  , 0.01  , 0.01  , 0.01  , 0.01  , 0.01  , 0.01  ,\n",
       "       0.01  , 0.01  , 0.01  , 0.01  , 0.01  , 0.01  , 0.01  , 0.01  ,\n",
       "       0.01  , 0.01  , 0.01  , 0.01  , 0.01  , 0.01  , 0.01  , 0.01  ,\n",
       "       0.01  , 0.01  , 0.01  , 0.01  , 0.01  , 0.01  , 0.01  , 0.01  ,\n",
       "       0.01  , 0.01  , 0.01  , 0.01  , 0.01  , 0.01  , 0.01  , 0.01  ,\n",
       "       0.01  , 0.01  , 0.01  , 0.01  , 0.01  , 0.01  , 0.01  , 0.01  ,\n",
       "       0.01  , 0.01  , 0.01  , 0.01  , 0.01  , 0.01  , 0.01  , 0.01  ,\n",
       "       0.01  , 0.01  , 0.01  , 0.01  , 0.01  , 0.01  , 0.01  , 0.01  ,\n",
       "       0.01  , 0.01  , 0.01  , 0.01  , 0.01  , 0.01  , 0.01  , 0.01  ,\n",
       "       0.01  , 0.01  , 0.01  , 0.01  , 0.01  , 0.01  , 0.01  , 0.01  ,\n",
       "       0.01  , 0.01  , 0.01  , 0.01  , 0.01  , 0.01  , 0.01  , 0.01  ,\n",
       "       0.01  , 0.01  , 0.01  , 0.01  , 0.01  , 0.01  , 0.01  , 0.01  ,\n",
       "       0.01  , 0.01  , 0.01  , 0.01  , 0.01  , 0.01  , 0.01  , 0.01  ,\n",
       "       0.3048, 1.0308, 0.1816, 0.01  , 0.01  , 0.01  , 0.01  , 0.01  ,\n",
       "       0.01  , 0.01  , 0.01  , 0.01  , 0.2828, 0.3664, 0.01  , 0.01  ,\n",
       "       0.01  , 0.01  , 0.01  , 0.01  , 0.01  , 0.01  , 0.01  , 0.01  ,\n",
       "       0.01  , 0.01  , 0.01  , 0.01  , 0.538 , 0.802 , 0.1816, 0.01  ,\n",
       "       0.01  , 0.01  , 0.01  , 0.01  , 0.01  , 0.01  , 0.01  , 0.01  ,\n",
       "       0.5644, 0.7272, 0.01  , 0.01  , 0.01  , 0.01  , 0.01  , 0.01  ,\n",
       "       0.01  , 0.01  , 0.01  , 0.01  , 0.01  , 0.01  , 0.01  , 0.0188,\n",
       "       0.6832, 0.934 , 0.186 , 0.01  , 0.01  , 0.01  , 0.01  , 0.01  ,\n",
       "       0.01  , 0.01  , 0.01  , 0.01  , 0.978 , 0.7272, 0.01  , 0.01  ,\n",
       "       0.01  , 0.01  , 0.01  , 0.01  , 0.01  , 0.01  , 0.01  , 0.01  ,\n",
       "       0.01  , 0.01  , 0.01  , 0.1288, 1.1276, 0.7228, 0.01  , 0.01  ,\n",
       "       0.01  , 0.01  , 0.01  , 0.01  , 0.01  , 0.01  , 0.01  , 0.01  ,\n",
       "       0.9868, 0.7272, 0.01  , 0.01  , 0.01  , 0.01  , 0.01  , 0.01  ,\n",
       "       0.01  , 0.01  , 0.01  , 0.01  , 0.01  , 0.01  , 0.01  , 0.8152,\n",
       "       1.1276, 0.56  , 0.01  , 0.01  , 0.01  , 0.01  , 0.01  , 0.01  ,\n",
       "       0.01  , 0.01  , 0.01  , 0.2124, 1.088 , 0.7272, 0.01  , 0.01  ,\n",
       "       0.01  , 0.01  , 0.01  , 0.01  , 0.01  , 0.01  , 0.01  , 0.01  ,\n",
       "       0.01  , 0.01  , 0.01  , 0.8812, 1.1276, 0.2564, 0.01  , 0.01  ,\n",
       "       0.01  , 0.01  , 0.01  , 0.01  , 0.01  , 0.01  , 0.01  , 0.538 ,\n",
       "       1.1276, 0.7272, 0.01  , 0.01  , 0.01  , 0.01  , 0.01  , 0.01  ,\n",
       "       0.01  , 0.01  , 0.01  , 0.01  , 0.01  , 0.01  , 0.1112, 1.0264,\n",
       "       1.1276, 0.1376, 0.01  , 0.01  , 0.01  , 0.01  , 0.01  , 0.01  ,\n",
       "       0.01  , 0.01  , 0.01  , 0.7096, 1.1276, 0.538 , 0.01  , 0.01  ,\n",
       "       0.01  , 0.01  , 0.01  , 0.01  , 0.01  , 0.01  , 0.01  , 0.01  ,\n",
       "       0.01  , 0.01  , 0.7272, 1.1276, 0.9604, 0.0804, 0.01  , 0.01  ,\n",
       "       0.01  , 0.01  , 0.01  , 0.01  , 0.01  , 0.01  , 0.01  , 0.7096,\n",
       "       1.1276, 0.3048, 0.01  , 0.01  , 0.01  , 0.01  , 0.01  , 0.01  ,\n",
       "       0.01  , 0.01  , 0.01  , 0.0716, 0.3884, 0.7932, 1.1012, 1.1276,\n",
       "       0.4104, 0.01  , 0.01  , 0.01  , 0.01  , 0.01  , 0.01  , 0.01  ,\n",
       "       0.01  , 0.01  , 0.01  , 0.7096, 1.1276, 0.384 , 0.01  , 0.01  ,\n",
       "       0.01  , 0.2168, 0.2256, 0.5204, 0.6436, 0.67  , 1.0704, 1.0792,\n",
       "       1.0396, 0.7976, 1.0704, 1.1188, 0.186 , 0.01  , 0.01  , 0.01  ,\n",
       "       0.01  , 0.01  , 0.01  , 0.01  , 0.01  , 0.01  , 0.01  , 0.67  ,\n",
       "       1.1232, 1.0528, 0.9208, 0.9208, 0.9208, 1.1232, 1.1276, 1.11  ,\n",
       "       1.066 , 0.8812, 0.6392, 0.4104, 0.1332, 0.032 , 1.0352, 1.11  ,\n",
       "       0.01  , 0.01  , 0.01  , 0.01  , 0.01  , 0.01  , 0.01  , 0.01  ,\n",
       "       0.01  , 0.01  , 0.01  , 0.01  , 0.5336, 0.7888, 0.7888, 0.7888,\n",
       "       0.7888, 0.7888, 0.4412, 0.2564, 0.01  , 0.01  , 0.01  , 0.01  ,\n",
       "       0.01  , 0.4588, 1.1276, 0.978 , 0.01  , 0.01  , 0.01  , 0.01  ,\n",
       "       0.01  , 0.01  , 0.01  , 0.01  , 0.01  , 0.01  , 0.01  , 0.01  ,\n",
       "       0.01  , 0.01  , 0.01  , 0.01  , 0.01  , 0.01  , 0.01  , 0.01  ,\n",
       "       0.01  , 0.01  , 0.01  , 0.01  , 0.01  , 0.7536, 1.1276, 0.6128,\n",
       "       0.01  , 0.01  , 0.01  , 0.01  , 0.01  , 0.01  , 0.01  , 0.01  ,\n",
       "       0.01  , 0.01  , 0.01  , 0.01  , 0.01  , 0.01  , 0.01  , 0.01  ,\n",
       "       0.01  , 0.01  , 0.01  , 0.01  , 0.01  , 0.01  , 0.01  , 0.01  ,\n",
       "       0.01  , 0.7536, 1.1276, 0.2608, 0.01  , 0.01  , 0.01  , 0.01  ,\n",
       "       0.01  , 0.01  , 0.01  , 0.01  , 0.01  , 0.01  , 0.01  , 0.01  ,\n",
       "       0.01  , 0.01  , 0.01  , 0.01  , 0.01  , 0.01  , 0.01  , 0.01  ,\n",
       "       0.01  , 0.01  , 0.01  , 0.01  , 0.01  , 0.7536, 1.1276, 0.2608,\n",
       "       0.01  , 0.01  , 0.01  , 0.01  , 0.01  , 0.01  , 0.01  , 0.01  ,\n",
       "       0.01  , 0.01  , 0.01  , 0.01  , 0.01  , 0.01  , 0.01  , 0.01  ,\n",
       "       0.01  , 0.01  , 0.01  , 0.01  , 0.01  , 0.01  , 0.01  , 0.01  ,\n",
       "       0.01  , 0.7536, 1.132 , 0.4236, 0.01  , 0.01  , 0.01  , 0.01  ,\n",
       "       0.01  , 0.01  , 0.01  , 0.01  , 0.01  , 0.01  , 0.01  , 0.01  ,\n",
       "       0.01  , 0.01  , 0.01  , 0.01  , 0.01  , 0.01  , 0.01  , 0.01  ,\n",
       "       0.01  , 0.01  , 0.01  , 0.01  , 0.01  , 0.7536, 1.1276, 0.4324,\n",
       "       0.01  , 0.01  , 0.01  , 0.01  , 0.01  , 0.01  , 0.01  , 0.01  ,\n",
       "       0.01  , 0.01  , 0.01  , 0.01  , 0.01  , 0.01  , 0.01  , 0.01  ,\n",
       "       0.01  , 0.01  , 0.01  , 0.01  , 0.01  , 0.01  , 0.01  , 0.01  ,\n",
       "       0.01  , 0.7536, 1.1276, 0.6832, 0.01  , 0.01  , 0.01  , 0.01  ,\n",
       "       0.01  , 0.01  , 0.01  , 0.01  , 0.01  , 0.01  , 0.01  , 0.01  ,\n",
       "       0.01  , 0.01  , 0.01  , 0.01  , 0.01  , 0.01  , 0.01  , 0.01  ,\n",
       "       0.01  , 0.01  , 0.01  , 0.01  , 0.01  , 0.7536, 1.132 , 0.6832,\n",
       "       0.01  , 0.01  , 0.01  , 0.01  , 0.01  , 0.01  , 0.01  , 0.01  ,\n",
       "       0.01  , 0.01  , 0.01  , 0.01  , 0.01  , 0.01  , 0.01  , 0.01  ,\n",
       "       0.01  , 0.01  , 0.01  , 0.01  , 0.01  , 0.01  , 0.01  , 0.01  ,\n",
       "       0.01  , 0.4324, 1.1276, 0.6832, 0.01  , 0.01  , 0.01  , 0.01  ,\n",
       "       0.01  , 0.01  , 0.01  , 0.01  , 0.01  , 0.01  , 0.01  , 0.01  ,\n",
       "       0.01  , 0.01  , 0.01  , 0.01  , 0.01  , 0.01  , 0.01  , 0.01  ,\n",
       "       0.01  , 0.01  , 0.01  , 0.01  , 0.01  , 0.01  , 0.01  , 0.01  ,\n",
       "       0.01  , 0.01  , 0.01  , 0.01  , 0.01  , 0.01  , 0.01  , 0.01  ,\n",
       "       0.01  , 0.01  , 0.01  , 0.01  , 0.01  , 0.01  , 0.01  , 0.01  ,\n",
       "       0.01  , 0.01  , 0.01  , 0.01  , 0.01  , 0.01  , 0.01  , 0.01  ,\n",
       "       0.01  , 0.01  , 0.01  , 0.01  , 0.01  , 0.01  , 0.01  , 0.01  ,\n",
       "       0.01  , 0.01  , 0.01  , 0.01  , 0.01  , 0.01  , 0.01  , 0.01  ,\n",
       "       0.01  , 0.01  , 0.01  , 0.01  , 0.01  , 0.01  , 0.01  , 0.01  ,\n",
       "       0.01  , 0.01  , 0.01  , 0.01  , 0.01  , 0.01  , 0.01  , 0.01  ,\n",
       "       0.01  , 0.01  , 0.01  , 0.01  , 0.01  , 0.01  , 0.01  , 0.01  ])"
      ]
     },
     "execution_count": 6,
     "metadata": {},
     "output_type": "execute_result"
    }
   ],
   "source": [
    "scaled_input = (numpy.asfarray(all_values[1:]) / 225.0 * 0.99 ) + 0.01\n",
    "scaled_input"
   ]
  },
  {
   "cell_type": "code",
   "execution_count": 7,
   "metadata": {},
   "outputs": [],
   "source": [
    "# output nodes is 10 (example)\n",
    "onodes = 10\n",
    "targets = numpy.zeros(onodes) + 0.01\n",
    "targets[int(all_values[0])] = 0.99"
   ]
  },
  {
   "cell_type": "code",
   "execution_count": 8,
   "metadata": {},
   "outputs": [
    {
     "data": {
      "text/plain": [
       "array([0.01, 0.01, 0.01, 0.01, 0.99, 0.01, 0.01, 0.01, 0.01, 0.01])"
      ]
     },
     "execution_count": 8,
     "metadata": {},
     "output_type": "execute_result"
    }
   ],
   "source": [
    "targets"
   ]
  }
 ],
 "metadata": {
  "kernelspec": {
   "display_name": "Python 3",
   "language": "python",
   "name": "python3"
  },
  "language_info": {
   "codemirror_mode": {
    "name": "ipython",
    "version": 3
   },
   "file_extension": ".py",
   "mimetype": "text/x-python",
   "name": "python",
   "nbconvert_exporter": "python",
   "pygments_lexer": "ipython3",
   "version": "3.7.1"
  }
 },
 "nbformat": 4,
 "nbformat_minor": 2
}
